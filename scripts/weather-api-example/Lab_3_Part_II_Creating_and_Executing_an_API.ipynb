{
  "cells": [
    {
      "cell_type": "markdown",
      "metadata": {
        "id": "CojT76QDBmhP"
      },
      "source": [
        "# Fetching Weather Data and Uploading to AWS S3\n",
        "\n",
        "This guide provides steps for fetching weather data using the OpenWeatherMap API and then uploading the data to an Amazon S3 bucket using Python.\n",
        "\n",
        "## Step 1: Obtain an API Key from OpenWeatherMap\n",
        "\n",
        "1. Register on the [OpenWeatherMap website](https://openweathermap.org/) and create an account.\n",
        "2. Find and copy the API key from your account dashboard.\n",
        "\n",
        "## Step 2: Write Python Function to Fetch Weather Data"
      ]
    },
    {
      "cell_type": "code",
      "execution_count": 1,
      "metadata": {
        "id": "IhtMAOMHBiyt"
      },
      "outputs": [],
      "source": [
        "import requests\n",
        "\n",
        "def get_weather_data(city, api_key):\n",
        "    base_url = \"https://api.openweathermap.org/data/2.5/weather\"\n",
        "    params = {'q': city, 'appid': api_key}\n",
        "    response = requests.get(base_url, params=params)\n",
        "    if response.status_code == 200:\n",
        "        return response.json()\n",
        "    else:\n",
        "        raise Exception(\"Failed to fetch weather data\")"
      ]
    },
    {
      "cell_type": "markdown",
      "metadata": {
        "id": "qGIMEi1-Bvbm"
      },
      "source": [
        "## Step 3: Set Up AWS Credentials for S3 Access\n",
        "* Install Boto3 using pip install boto3.\n",
        "* Configure AWS credentials (AWS Access Key ID and Secret Access Key)."
      ]
    },
    {
      "cell_type": "code",
      "execution_count": 2,
      "metadata": {
        "colab": {
          "base_uri": "https://localhost:8080/"
        },
        "id": "lZW3uJbuB489",
        "outputId": "aebe3abe-9c4c-4927-e4d0-b83aba818bf7"
      },
      "outputs": [
        {
          "name": "stdout",
          "output_type": "stream",
          "text": [
            "Collecting boto3"
          ]
        },
        {
          "name": "stderr",
          "output_type": "stream",
          "text": [
            "ERROR: pip's dependency resolver does not currently take into account all the packages that are installed. This behaviour is the source of the following dependency conflicts.\n",
            "aiobotocore 2.5.0 requires botocore<1.29.77,>=1.29.76, but you have botocore 1.32.5 which is incompatible.\n",
            "\n",
            "[notice] A new release of pip available: 22.3.1 -> 23.3.1\n",
            "[notice] To update, run: C:\\Users\\brand\\AppData\\Local\\Microsoft\\WindowsApps\\PythonSoftwareFoundation.Python.3.10_qbz5n2kfra8p0\\python.exe -m pip install --upgrade pip\n"
          ]
        },
        {
          "name": "stdout",
          "output_type": "stream",
          "text": [
            "\n",
            "  Downloading boto3-1.29.5-py3-none-any.whl (135 kB)\n",
            "     -------------------------------------- 135.8/135.8 kB 2.7 MB/s eta 0:00:00\n",
            "Requirement already satisfied: jmespath<2.0.0,>=0.7.1 in c:\\users\\brand\\appdata\\local\\packages\\pythonsoftwarefoundation.python.3.10_qbz5n2kfra8p0\\localcache\\local-packages\\python310\\site-packages (from boto3) (1.0.1)\n",
            "Collecting s3transfer<0.8.0,>=0.7.0\n",
            "  Downloading s3transfer-0.7.0-py3-none-any.whl (79 kB)\n",
            "     ---------------------------------------- 79.8/79.8 kB 2.2 MB/s eta 0:00:00\n",
            "Collecting botocore<1.33.0,>=1.32.5\n",
            "  Downloading botocore-1.32.5-py3-none-any.whl (11.5 MB)\n",
            "     --------------------------------------- 11.5/11.5 MB 26.2 MB/s eta 0:00:00\n",
            "Requirement already satisfied: urllib3<2.1,>=1.25.4 in c:\\users\\brand\\appdata\\local\\packages\\pythonsoftwarefoundation.python.3.10_qbz5n2kfra8p0\\localcache\\local-packages\\python310\\site-packages (from botocore<1.33.0,>=1.32.5->boto3) (1.26.11)\n",
            "Requirement already satisfied: python-dateutil<3.0.0,>=2.1 in c:\\users\\brand\\appdata\\local\\packages\\pythonsoftwarefoundation.python.3.10_qbz5n2kfra8p0\\localcache\\local-packages\\python310\\site-packages (from botocore<1.33.0,>=1.32.5->boto3) (2.8.2)\n",
            "Requirement already satisfied: six>=1.5 in c:\\users\\brand\\appdata\\local\\packages\\pythonsoftwarefoundation.python.3.10_qbz5n2kfra8p0\\localcache\\local-packages\\python310\\site-packages (from python-dateutil<3.0.0,>=2.1->botocore<1.33.0,>=1.32.5->boto3) (1.16.0)\n",
            "Installing collected packages: botocore, s3transfer, boto3\n",
            "  Attempting uninstall: botocore\n",
            "    Found existing installation: botocore 1.29.76\n",
            "    Uninstalling botocore-1.29.76:\n",
            "      Successfully uninstalled botocore-1.29.76\n",
            "Successfully installed boto3-1.29.5 botocore-1.32.5 s3transfer-0.7.0\n"
          ]
        }
      ],
      "source": [
        "!pip install boto3"
      ]
    },
    {
      "cell_type": "markdown",
      "metadata": {
        "id": "vnn-pfSWCXfi"
      },
      "source": [
        "## Step 4: Write Python Function to Upload Data to S3\n"
      ]
    },
    {
      "cell_type": "code",
      "execution_count": 3,
      "metadata": {
        "id": "Ja7gCT4CCVt4"
      },
      "outputs": [],
      "source": [
        "import boto3\n",
        "import json\n",
        "\n",
        "def upload_to_s3(bucket_name, file_name, data):\n",
        "    s3 = boto3.client('s3')\n",
        "    s3.put_object(Bucket=bucket_name, Key=file_name, Body=json.dumps(data))"
      ]
    },
    {
      "cell_type": "markdown",
      "metadata": {
        "id": "G795_fa1CcgS"
      },
      "source": [
        "## Step 5: Combine the Functions in a Script\n"
      ]
    },
    {
      "cell_type": "code",
      "execution_count": 4,
      "metadata": {
        "colab": {
          "base_uri": "https://localhost:8080/"
        },
        "id": "qObZbAK8Ce9C",
        "outputId": "05c3b5f4-c8d8-4dc7-9cad-cb833493f762"
      },
      "outputs": [
        {
          "name": "stdout",
          "output_type": "stream",
          "text": [
            "Data uploaded successfully to S3\n"
          ]
        }
      ],
      "source": [
        "# Main execution\n",
        "api_key = \"a48f684795a45810ddf42c1a544978d7\"   # Replace with your API key\n",
        "city = \"London\"  # Replace with desired city\n",
        "bucket_name = \"lab-03\"  # Replace with your S3 bucket name\n",
        "file_name = \"weather_data.json\"\n",
        "\n",
        "try:\n",
        "    weather_data = get_weather_data(city, api_key)\n",
        "    upload_to_s3(bucket_name, file_name, weather_data)\n",
        "    print(\"Data uploaded successfully to S3\")\n",
        "except Exception as e:\n",
        "    print(f\"An error occurred: {e}\")"
      ]
    },
    {
      "cell_type": "markdown",
      "metadata": {
        "id": "0O_jA3tBCVJY"
      },
      "source": []
    },
    {
      "cell_type": "code",
      "execution_count": 5,
      "metadata": {
        "colab": {
          "base_uri": "https://localhost:8080/"
        },
        "id": "WlFDrpu_Co3T",
        "outputId": "62eba14a-296a-4d75-b03c-4506d47983fd"
      },
      "outputs": [
        {
          "name": "stdout",
          "output_type": "stream",
          "text": [
            "{'coord': {'lon': -0.1257, 'lat': 51.5085}, 'weather': [{'id': 803, 'main': 'Clouds', 'description': 'broken clouds', 'icon': '04n'}], 'base': 'stations', 'main': {'temp': 280.44, 'feels_like': 278.35, 'temp_min': 278.58, 'temp_max': 281.91, 'pressure': 1028, 'humidity': 89}, 'visibility': 10000, 'wind': {'speed': 3.09, 'deg': 340}, 'clouds': {'all': 75}, 'dt': 1700609665, 'sys': {'type': 2, 'id': 2075535, 'country': 'GB', 'sunrise': 1700551684, 'sunset': 1700582689}, 'timezone': 0, 'id': 2643743, 'name': 'London', 'cod': 200}\n"
          ]
        }
      ],
      "source": [
        "# Example usage\n",
        "api_key = \"a48f684795a45810ddf42c1a544978d7\"  # Replace with your actual API key\n",
        "city = \"London\"\n",
        "try:\n",
        "    weather_data = get_weather_data(city, api_key)\n",
        "    print(weather_data)\n",
        "except Exception as e:\n",
        "    print(f\"An error occurred: {e}\")"
      ]
    },
    {
      "cell_type": "markdown",
      "metadata": {},
      "source": [
        "# Assignment: Groups to Convert JSON to CSV\n",
        "\n",
        "Step 1. Take the JSON output and convert it to a Dataframe using pandas\n",
        "Step 2. Now upload the CSV file to the 'lab-03' S3 bucket in the cloud with the following naming convention: <your group name>_weather_date_london_<datetimestamp>.csv\n"
      ]
    },
    {
      "cell_type": "code",
      "execution_count": null,
      "metadata": {},
      "outputs": [],
      "source": [
        "###### INSERT CODE BELOW ####\n",
        "\n",
        "\n",
        "\n",
        "\n",
        "\n",
        "### END CODE ###"
      ]
    }
  ],
  "metadata": {
    "colab": {
      "provenance": []
    },
    "kernelspec": {
      "display_name": "Python 3",
      "name": "python3"
    },
    "language_info": {
      "codemirror_mode": {
        "name": "ipython",
        "version": 3
      },
      "file_extension": ".py",
      "mimetype": "text/x-python",
      "name": "python",
      "nbconvert_exporter": "python",
      "pygments_lexer": "ipython3",
      "version": "3.10.11"
    }
  },
  "nbformat": 4,
  "nbformat_minor": 0
}
