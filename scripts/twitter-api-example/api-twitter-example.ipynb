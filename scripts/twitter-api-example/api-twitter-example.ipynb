{
 "cells": [
  {
   "cell_type": "code",
   "execution_count": 12,
   "metadata": {},
   "outputs": [
    {
     "data": {
      "text/plain": [
       "200"
      ]
     },
     "execution_count": 12,
     "metadata": {},
     "output_type": "execute_result"
    }
   ],
   "source": [
    "\n",
    "####################\n",
    "#Author: brandon chiazza\n",
    "#version: 1.0\n",
    "#purpose: to call a twitter api and return results\n",
    "#documentation: https://developer.twitter.com/en/docs\n",
    "#####################\n",
    "\n",
    "import pandas as pd\n",
    "import requests\n",
    "import json\n",
    "import base64\n",
    "import s3fs \n",
    "import time\n",
    "import twitter_keys #this is a custom reference module to a package containing twitter keys\n",
    "\n",
    "%config IPCompleter.greedy=True\n",
    "\n",
    "\n",
    "key_secret = '{}:{}'.format(twitter_keys.client_key, twitter_keys.client_secret).encode('ascii')\n",
    "b64_encoded_key = base64.b64encode(key_secret)\n",
    "b64_encoded_key = b64_encoded_key.decode('ascii')\n",
    "\n",
    "#identify base url and oauth token path\n",
    "base_url = 'https://api.twitter.com/' #base url for authentication\n",
    "auth_url = '{}oauth2/token'.format(base_url)\n",
    "\n",
    "#share header information -- encoding is ascii\n",
    "auth_headers = {\n",
    "    'Authorization': 'Basic {}'.format(b64_encoded_key),\n",
    "    'Content-Type': 'application/x-www-form-urlencoded;charset=UTF-8'\n",
    "}\n",
    "\n",
    "#pass clientcredentials\n",
    "auth_data = {\n",
    "    'grant_type': 'client_credentials'\n",
    "}\n",
    "\n",
    "#send authentication using requests - POST request\n",
    "auth_resp = requests.post(auth_url, headers=auth_headers, data=auth_data)\n",
    "\n",
    "#check response status. 200 = OK\n",
    "auth_resp.status_code\n",
    "\n",
    "\n"
   ]
  },
  {
   "cell_type": "code",
   "execution_count": 27,
   "metadata": {},
   "outputs": [
    {
     "name": "stdout",
     "output_type": "stream",
     "text": [
      "dict_keys(['token_type', 'access_token'])\n"
     ]
    },
    {
     "data": {
      "text/plain": [
       "200"
      ]
     },
     "execution_count": 27,
     "metadata": {},
     "output_type": "execute_result"
    }
   ],
   "source": [
    "\n",
    "#Keys in data response are token_type (bearer) and access_token (your access token)\n",
    "print(auth_resp.json().keys())\n",
    "\n",
    "access_token = auth_resp.json()['access_token']\n",
    "\n",
    "\n",
    "search_headers = {\n",
    "    'Authorization': 'Bearer {}'.format(access_token)    \n",
    "}\n",
    "\n",
    "#enter search parameters for coronavirus example. This looks for \"covid-19\" in the 1000 most recent tweets\n",
    "query_params = {\n",
    "    'q': 'covid-19',\n",
    "    'result_type': 'recent',\n",
    "    'count': 100, #update here to get more/less than 1000 returns\n",
    "    'lang': 'en' #filters by english language only\n",
    "}\n",
    "\n",
    "\n",
    "#identify search url path and save \n",
    "search_url = '{}1.1/search/tweets.json'.format(base_url)\n",
    "\n",
    "\n",
    "#run search using get request\n",
    "search_resp = requests.get(search_url, headers=search_headers, params=query_params)\n",
    "\n",
    "#check status code of GET request\n",
    "search_resp.status_code\n"
   ]
  },
  {
   "cell_type": "code",
   "execution_count": 28,
   "metadata": {},
   "outputs": [
    {
     "name": "stdout",
     "output_type": "stream",
     "text": [
      "I've kind of made it a poin to not talk too much about my personal life on my account. To every rule however there… https://t.co/YBuxagRxNf\n",
      "\n"
     ]
    }
   ],
   "source": [
    "#print text from result to verify  \n",
    "twitter_data = search_resp.json()\n",
    "\n",
    "for x in twitter_data['statuses']:\n",
    "    print(x['text'] + '\\n')\n",
    "    break #prints after one iteration and stops, remove break to see all 1000"
   ]
  },
  {
   "cell_type": "code",
   "execution_count": 42,
   "metadata": {},
   "outputs": [
    {
     "data": {
      "text/plain": [
       "b'0     I\\'ve kind of made it a poin to not talk too mu...\\n1     Two men in Georgia drank disinfectants in effo...\\n2     RT @JHorstman45: .@IowaStandard: \"Numbers don\\xe2\\x80\\x99...\\n3     RT @B52Malmet: A million cases of #COVID-19 an...\\n4     RT @SkyNews: For 6,600 care home deaths we sim...\\n                            ...                        \\n95    RT @UPI: 9 die in Peru prison riot amid fears ...\\n96    RT @SafetyPinDaily: Wisconsin Election Winner ...\\n97    RT @ClaraJeffery: The Vietnam War traumatized ...\\n98    RT @julie_kelly2: While joggers are hounded of...\\n99    \"Experts condemn two California doctors for sh...\\nName: text, Length: 100, dtype: object'"
      ]
     },
     "execution_count": 42,
     "metadata": {},
     "output_type": "execute_result"
    }
   ],
   "source": [
    "# move data into data frame \n",
    "df = pd.DataFrame(twitter_data['statuses'])\n",
    "str(df.text).encode()\n",
    "# show one record to verify import \n",
    "#df.head(1)"
   ]
  },
  {
   "cell_type": "code",
   "execution_count": 46,
   "metadata": {},
   "outputs": [
    {
     "name": "stdout",
     "output_type": "stream",
     "text": [
      "s3:/lab-03/Group_1_20200428193107.csv\n"
     ]
    },
    {
     "ename": "UnicodeEncodeError",
     "evalue": "'charmap' codec can't encode characters in position 125-128: character maps to <undefined>",
     "output_type": "error",
     "traceback": [
      "\u001b[1;31m---------------------------------------------------------------------------\u001b[0m",
      "\u001b[1;31mUnicodeEncodeError\u001b[0m                        Traceback (most recent call last)",
      "\u001b[1;32m<ipython-input-46-3a471168f4a2>\u001b[0m in \u001b[0;36m<module>\u001b[1;34m\u001b[0m\n\u001b[0;32m      7\u001b[0m \u001b[0mprint\u001b[0m\u001b[1;33m(\u001b[0m\u001b[0mfilenames3\u001b[0m\u001b[1;33m)\u001b[0m\u001b[1;33m\u001b[0m\u001b[1;33m\u001b[0m\u001b[0m\n\u001b[0;32m      8\u001b[0m \u001b[1;31m#'C:/example_file.csv'\u001b[0m\u001b[1;33m\u001b[0m\u001b[1;33m\u001b[0m\u001b[1;33m\u001b[0m\u001b[0m\n\u001b[1;32m----> 9\u001b[1;33m \u001b[0mdf\u001b[0m\u001b[1;33m.\u001b[0m\u001b[0mtext\u001b[0m\u001b[1;33m.\u001b[0m\u001b[0mto_csv\u001b[0m\u001b[1;33m(\u001b[0m\u001b[0mpath_or_buf\u001b[0m\u001b[1;33m=\u001b[0m\u001b[0mfilenames3\u001b[0m\u001b[1;33m,\u001b[0m \u001b[0mheader\u001b[0m\u001b[1;33m=\u001b[0m \u001b[1;32mTrue\u001b[0m\u001b[1;33m,\u001b[0m \u001b[0mindex\u001b[0m\u001b[1;33m=\u001b[0m\u001b[1;32mFalse\u001b[0m\u001b[1;33m,\u001b[0m \u001b[0mline_terminator\u001b[0m \u001b[1;33m=\u001b[0m\u001b[1;34m'\\n'\u001b[0m\u001b[1;33m)\u001b[0m\u001b[1;33m\u001b[0m\u001b[1;33m\u001b[0m\u001b[0m\n\u001b[0m",
      "\u001b[1;32m~\\anaconda3\\lib\\site-packages\\pandas\\core\\generic.py\u001b[0m in \u001b[0;36mto_csv\u001b[1;34m(self, path_or_buf, sep, na_rep, float_format, columns, header, index, index_label, mode, encoding, compression, quoting, quotechar, line_terminator, chunksize, date_format, doublequote, escapechar, decimal)\u001b[0m\n\u001b[0;32m   3202\u001b[0m             \u001b[0mdecimal\u001b[0m\u001b[1;33m=\u001b[0m\u001b[0mdecimal\u001b[0m\u001b[1;33m,\u001b[0m\u001b[1;33m\u001b[0m\u001b[1;33m\u001b[0m\u001b[0m\n\u001b[0;32m   3203\u001b[0m         )\n\u001b[1;32m-> 3204\u001b[1;33m         \u001b[0mformatter\u001b[0m\u001b[1;33m.\u001b[0m\u001b[0msave\u001b[0m\u001b[1;33m(\u001b[0m\u001b[1;33m)\u001b[0m\u001b[1;33m\u001b[0m\u001b[1;33m\u001b[0m\u001b[0m\n\u001b[0m\u001b[0;32m   3205\u001b[0m \u001b[1;33m\u001b[0m\u001b[0m\n\u001b[0;32m   3206\u001b[0m         \u001b[1;32mif\u001b[0m \u001b[0mpath_or_buf\u001b[0m \u001b[1;32mis\u001b[0m \u001b[1;32mNone\u001b[0m\u001b[1;33m:\u001b[0m\u001b[1;33m\u001b[0m\u001b[1;33m\u001b[0m\u001b[0m\n",
      "\u001b[1;32m~\\anaconda3\\lib\\site-packages\\pandas\\io\\formats\\csvs.py\u001b[0m in \u001b[0;36msave\u001b[1;34m(self)\u001b[0m\n\u001b[0;32m    202\u001b[0m             )\n\u001b[0;32m    203\u001b[0m \u001b[1;33m\u001b[0m\u001b[0m\n\u001b[1;32m--> 204\u001b[1;33m             \u001b[0mself\u001b[0m\u001b[1;33m.\u001b[0m\u001b[0m_save\u001b[0m\u001b[1;33m(\u001b[0m\u001b[1;33m)\u001b[0m\u001b[1;33m\u001b[0m\u001b[1;33m\u001b[0m\u001b[0m\n\u001b[0m\u001b[0;32m    205\u001b[0m \u001b[1;33m\u001b[0m\u001b[0m\n\u001b[0;32m    206\u001b[0m         \u001b[1;32mfinally\u001b[0m\u001b[1;33m:\u001b[0m\u001b[1;33m\u001b[0m\u001b[1;33m\u001b[0m\u001b[0m\n",
      "\u001b[1;32m~\\anaconda3\\lib\\site-packages\\pandas\\io\\formats\\csvs.py\u001b[0m in \u001b[0;36m_save\u001b[1;34m(self)\u001b[0m\n\u001b[0;32m    321\u001b[0m                 \u001b[1;32mbreak\u001b[0m\u001b[1;33m\u001b[0m\u001b[1;33m\u001b[0m\u001b[0m\n\u001b[0;32m    322\u001b[0m \u001b[1;33m\u001b[0m\u001b[0m\n\u001b[1;32m--> 323\u001b[1;33m             \u001b[0mself\u001b[0m\u001b[1;33m.\u001b[0m\u001b[0m_save_chunk\u001b[0m\u001b[1;33m(\u001b[0m\u001b[0mstart_i\u001b[0m\u001b[1;33m,\u001b[0m \u001b[0mend_i\u001b[0m\u001b[1;33m)\u001b[0m\u001b[1;33m\u001b[0m\u001b[1;33m\u001b[0m\u001b[0m\n\u001b[0m\u001b[0;32m    324\u001b[0m \u001b[1;33m\u001b[0m\u001b[0m\n\u001b[0;32m    325\u001b[0m     \u001b[1;32mdef\u001b[0m \u001b[0m_save_chunk\u001b[0m\u001b[1;33m(\u001b[0m\u001b[0mself\u001b[0m\u001b[1;33m,\u001b[0m \u001b[0mstart_i\u001b[0m\u001b[1;33m:\u001b[0m \u001b[0mint\u001b[0m\u001b[1;33m,\u001b[0m \u001b[0mend_i\u001b[0m\u001b[1;33m:\u001b[0m \u001b[0mint\u001b[0m\u001b[1;33m)\u001b[0m \u001b[1;33m->\u001b[0m \u001b[1;32mNone\u001b[0m\u001b[1;33m:\u001b[0m\u001b[1;33m\u001b[0m\u001b[1;33m\u001b[0m\u001b[0m\n",
      "\u001b[1;32m~\\anaconda3\\lib\\site-packages\\pandas\\io\\formats\\csvs.py\u001b[0m in \u001b[0;36m_save_chunk\u001b[1;34m(self, start_i, end_i)\u001b[0m\n\u001b[0;32m    352\u001b[0m         )\n\u001b[0;32m    353\u001b[0m \u001b[1;33m\u001b[0m\u001b[0m\n\u001b[1;32m--> 354\u001b[1;33m         \u001b[0mlibwriters\u001b[0m\u001b[1;33m.\u001b[0m\u001b[0mwrite_csv_rows\u001b[0m\u001b[1;33m(\u001b[0m\u001b[0mself\u001b[0m\u001b[1;33m.\u001b[0m\u001b[0mdata\u001b[0m\u001b[1;33m,\u001b[0m \u001b[0mix\u001b[0m\u001b[1;33m,\u001b[0m \u001b[0mself\u001b[0m\u001b[1;33m.\u001b[0m\u001b[0mnlevels\u001b[0m\u001b[1;33m,\u001b[0m \u001b[0mself\u001b[0m\u001b[1;33m.\u001b[0m\u001b[0mcols\u001b[0m\u001b[1;33m,\u001b[0m \u001b[0mself\u001b[0m\u001b[1;33m.\u001b[0m\u001b[0mwriter\u001b[0m\u001b[1;33m)\u001b[0m\u001b[1;33m\u001b[0m\u001b[1;33m\u001b[0m\u001b[0m\n\u001b[0m",
      "\u001b[1;32mpandas\\_libs\\writers.pyx\u001b[0m in \u001b[0;36mpandas._libs.writers.write_csv_rows\u001b[1;34m()\u001b[0m\n",
      "\u001b[1;32m~\\anaconda3\\lib\\encodings\\cp1252.py\u001b[0m in \u001b[0;36mencode\u001b[1;34m(self, input, final)\u001b[0m\n\u001b[0;32m     17\u001b[0m \u001b[1;32mclass\u001b[0m \u001b[0mIncrementalEncoder\u001b[0m\u001b[1;33m(\u001b[0m\u001b[0mcodecs\u001b[0m\u001b[1;33m.\u001b[0m\u001b[0mIncrementalEncoder\u001b[0m\u001b[1;33m)\u001b[0m\u001b[1;33m:\u001b[0m\u001b[1;33m\u001b[0m\u001b[1;33m\u001b[0m\u001b[0m\n\u001b[0;32m     18\u001b[0m     \u001b[1;32mdef\u001b[0m \u001b[0mencode\u001b[0m\u001b[1;33m(\u001b[0m\u001b[0mself\u001b[0m\u001b[1;33m,\u001b[0m \u001b[0minput\u001b[0m\u001b[1;33m,\u001b[0m \u001b[0mfinal\u001b[0m\u001b[1;33m=\u001b[0m\u001b[1;32mFalse\u001b[0m\u001b[1;33m)\u001b[0m\u001b[1;33m:\u001b[0m\u001b[1;33m\u001b[0m\u001b[1;33m\u001b[0m\u001b[0m\n\u001b[1;32m---> 19\u001b[1;33m         \u001b[1;32mreturn\u001b[0m \u001b[0mcodecs\u001b[0m\u001b[1;33m.\u001b[0m\u001b[0mcharmap_encode\u001b[0m\u001b[1;33m(\u001b[0m\u001b[0minput\u001b[0m\u001b[1;33m,\u001b[0m\u001b[0mself\u001b[0m\u001b[1;33m.\u001b[0m\u001b[0merrors\u001b[0m\u001b[1;33m,\u001b[0m\u001b[0mencoding_table\u001b[0m\u001b[1;33m)\u001b[0m\u001b[1;33m[\u001b[0m\u001b[1;36m0\u001b[0m\u001b[1;33m]\u001b[0m\u001b[1;33m\u001b[0m\u001b[1;33m\u001b[0m\u001b[0m\n\u001b[0m\u001b[0;32m     20\u001b[0m \u001b[1;33m\u001b[0m\u001b[0m\n\u001b[0;32m     21\u001b[0m \u001b[1;32mclass\u001b[0m \u001b[0mIncrementalDecoder\u001b[0m\u001b[1;33m(\u001b[0m\u001b[0mcodecs\u001b[0m\u001b[1;33m.\u001b[0m\u001b[0mIncrementalDecoder\u001b[0m\u001b[1;33m)\u001b[0m\u001b[1;33m:\u001b[0m\u001b[1;33m\u001b[0m\u001b[1;33m\u001b[0m\u001b[0m\n",
      "\u001b[1;31mUnicodeEncodeError\u001b[0m: 'charmap' codec can't encode characters in position 125-128: character maps to <undefined>"
     ]
    }
   ],
   "source": [
    "# we can use pandas to put data directly into an s3 bucket\n",
    "#prepare csv file name   \n",
    "filename = 's3:/lab-03/'#specify location of s3:/{my-bucket}/\n",
    "groupname= 'Group_1_' #name of your group\n",
    "datetime = time.strftime(\"%Y%m%d%H%M%S\") #timestamp\n",
    "filenames3 = \"%s%s%s.csv\"%(filename,groupname,datetime) #name of the filepath and csv file\n",
    "print(filenames3)\n",
    "#'C:/example_file.csv'\n",
    "df.text.to_csv(path_or_buf=filenames3, header= True, index=False, line_terminator ='\\n')"
   ]
  },
  {
   "cell_type": "code",
   "execution_count": 47,
   "metadata": {},
   "outputs": [
    {
     "data": {
      "text/plain": [
       "0    {'id': 801624973, 'id_str': '801624973', 'name...\n",
       "1    {'id': 355470606, 'id_str': '355470606', 'name...\n",
       "2    {'id': 14825402, 'id_str': '14825402', 'name':...\n",
       "3    {'id': 817670481117663233, 'id_str': '81767048...\n",
       "4    {'id': 95455068, 'id_str': '95455068', 'name':...\n",
       "Name: user, dtype: object"
      ]
     },
     "metadata": {},
     "output_type": "display_data"
    },
    {
     "data": {
      "text/plain": [
       "dict"
      ]
     },
     "execution_count": 47,
     "metadata": {},
     "output_type": "execute_result"
    }
   ],
   "source": [
    "# optional flatening nested json with json_normalize\n",
    "from pandas.io.json import json_normalize\n",
    "\n",
    "#lets look at the users column\n",
    "display(df.user[:5])\n",
    "\n",
    "#and lets print its dtype\n",
    "type(df.user[2])\n"
   ]
  },
  {
   "cell_type": "code",
   "execution_count": 48,
   "metadata": {},
   "outputs": [
    {
     "name": "stderr",
     "output_type": "stream",
     "text": [
      "C:\\Users\\brand\\anaconda3\\lib\\site-packages\\ipykernel_launcher.py:4: FutureWarning: pandas.io.json.json_normalize is deprecated, use pandas.json_normalize instead\n",
      "  after removing the cwd from sys.path.\n"
     ]
    },
    {
     "data": {
      "text/html": [
       "<div>\n",
       "<style scoped>\n",
       "    .dataframe tbody tr th:only-of-type {\n",
       "        vertical-align: middle;\n",
       "    }\n",
       "\n",
       "    .dataframe tbody tr th {\n",
       "        vertical-align: top;\n",
       "    }\n",
       "\n",
       "    .dataframe thead th {\n",
       "        text-align: right;\n",
       "    }\n",
       "</style>\n",
       "<table border=\"1\" class=\"dataframe\">\n",
       "  <thead>\n",
       "    <tr style=\"text-align: right;\">\n",
       "      <th></th>\n",
       "      <th>id</th>\n",
       "      <th>id_str</th>\n",
       "      <th>name</th>\n",
       "      <th>screen_name</th>\n",
       "      <th>location</th>\n",
       "      <th>description</th>\n",
       "      <th>url</th>\n",
       "      <th>protected</th>\n",
       "      <th>followers_count</th>\n",
       "      <th>friends_count</th>\n",
       "      <th>...</th>\n",
       "      <th>profile_use_background_image</th>\n",
       "      <th>has_extended_profile</th>\n",
       "      <th>default_profile</th>\n",
       "      <th>default_profile_image</th>\n",
       "      <th>following</th>\n",
       "      <th>follow_request_sent</th>\n",
       "      <th>notifications</th>\n",
       "      <th>translator_type</th>\n",
       "      <th>entities.description.urls</th>\n",
       "      <th>entities.url.urls</th>\n",
       "    </tr>\n",
       "  </thead>\n",
       "  <tbody>\n",
       "    <tr>\n",
       "      <th>0</th>\n",
       "      <td>801624973</td>\n",
       "      <td>801624973</td>\n",
       "      <td>Ethan Akrie</td>\n",
       "      <td>xethan123x</td>\n",
       "      <td></td>\n",
       "      <td></td>\n",
       "      <td>None</td>\n",
       "      <td>False</td>\n",
       "      <td>119</td>\n",
       "      <td>528</td>\n",
       "      <td>...</td>\n",
       "      <td>True</td>\n",
       "      <td>False</td>\n",
       "      <td>True</td>\n",
       "      <td>False</td>\n",
       "      <td>None</td>\n",
       "      <td>None</td>\n",
       "      <td>None</td>\n",
       "      <td>none</td>\n",
       "      <td>[]</td>\n",
       "      <td>NaN</td>\n",
       "    </tr>\n",
       "    <tr>\n",
       "      <th>1</th>\n",
       "      <td>355470606</td>\n",
       "      <td>355470606</td>\n",
       "      <td>JimmyBear 🗽 🐻😷🧻👬 🏳️‍🌈 🇺🇸 ☮️ 🍕 🚀 🌊</td>\n",
       "      <td>JimmyBear2</td>\n",
       "      <td>Nutley, New Jersey</td>\n",
       "      <td>#COVID19 😷#StayHomeSavesLives #AloneTogether #...</td>\n",
       "      <td>None</td>\n",
       "      <td>False</td>\n",
       "      <td>13925</td>\n",
       "      <td>13466</td>\n",
       "      <td>...</td>\n",
       "      <td>True</td>\n",
       "      <td>True</td>\n",
       "      <td>False</td>\n",
       "      <td>False</td>\n",
       "      <td>None</td>\n",
       "      <td>None</td>\n",
       "      <td>None</td>\n",
       "      <td>none</td>\n",
       "      <td>[]</td>\n",
       "      <td>NaN</td>\n",
       "    </tr>\n",
       "    <tr>\n",
       "      <th>2</th>\n",
       "      <td>14825402</td>\n",
       "      <td>14825402</td>\n",
       "      <td>Kerith Gaines</td>\n",
       "      <td>TheRightWife</td>\n",
       "      <td>South Carolina, USA</td>\n",
       "      <td>America First. Build the Wall. Eat your veggies!</td>\n",
       "      <td>None</td>\n",
       "      <td>False</td>\n",
       "      <td>1487</td>\n",
       "      <td>1387</td>\n",
       "      <td>...</td>\n",
       "      <td>False</td>\n",
       "      <td>False</td>\n",
       "      <td>False</td>\n",
       "      <td>False</td>\n",
       "      <td>None</td>\n",
       "      <td>None</td>\n",
       "      <td>None</td>\n",
       "      <td>none</td>\n",
       "      <td>[]</td>\n",
       "      <td>NaN</td>\n",
       "    </tr>\n",
       "    <tr>\n",
       "      <th>3</th>\n",
       "      <td>817670481117663233</td>\n",
       "      <td>817670481117663233</td>\n",
       "      <td>Painterly Breeze</td>\n",
       "      <td>painterlybreeze</td>\n",
       "      <td></td>\n",
       "      <td>Old hippie and veteran who will soon be off to...</td>\n",
       "      <td>None</td>\n",
       "      <td>False</td>\n",
       "      <td>114</td>\n",
       "      <td>292</td>\n",
       "      <td>...</td>\n",
       "      <td>True</td>\n",
       "      <td>False</td>\n",
       "      <td>True</td>\n",
       "      <td>False</td>\n",
       "      <td>None</td>\n",
       "      <td>None</td>\n",
       "      <td>None</td>\n",
       "      <td>none</td>\n",
       "      <td>[]</td>\n",
       "      <td>NaN</td>\n",
       "    </tr>\n",
       "    <tr>\n",
       "      <th>4</th>\n",
       "      <td>95455068</td>\n",
       "      <td>95455068</td>\n",
       "      <td>Ari</td>\n",
       "      <td>IhavnoHandle</td>\n",
       "      <td>IhavNoLocation</td>\n",
       "      <td>IhavnoBio</td>\n",
       "      <td>https://t.co/H5B8gfUnyu</td>\n",
       "      <td>False</td>\n",
       "      <td>537</td>\n",
       "      <td>338</td>\n",
       "      <td>...</td>\n",
       "      <td>True</td>\n",
       "      <td>True</td>\n",
       "      <td>False</td>\n",
       "      <td>False</td>\n",
       "      <td>None</td>\n",
       "      <td>None</td>\n",
       "      <td>None</td>\n",
       "      <td>none</td>\n",
       "      <td>[]</td>\n",
       "      <td>[{'url': 'https://t.co/H5B8gfUnyu', 'expanded_...</td>\n",
       "    </tr>\n",
       "  </tbody>\n",
       "</table>\n",
       "<p>5 rows × 43 columns</p>\n",
       "</div>"
      ],
      "text/plain": [
       "                   id              id_str                               name  \\\n",
       "0           801624973           801624973                        Ethan Akrie   \n",
       "1           355470606           355470606  JimmyBear 🗽 🐻😷🧻👬 🏳️‍🌈 🇺🇸 ☮️ 🍕 🚀 🌊   \n",
       "2            14825402            14825402                      Kerith Gaines   \n",
       "3  817670481117663233  817670481117663233                   Painterly Breeze   \n",
       "4            95455068            95455068                                Ari   \n",
       "\n",
       "       screen_name             location  \\\n",
       "0       xethan123x                        \n",
       "1       JimmyBear2   Nutley, New Jersey   \n",
       "2     TheRightWife  South Carolina, USA   \n",
       "3  painterlybreeze                        \n",
       "4     IhavnoHandle       IhavNoLocation   \n",
       "\n",
       "                                         description                      url  \\\n",
       "0                                                                        None   \n",
       "1  #COVID19 😷#StayHomeSavesLives #AloneTogether #...                     None   \n",
       "2   America First. Build the Wall. Eat your veggies!                     None   \n",
       "3  Old hippie and veteran who will soon be off to...                     None   \n",
       "4                                          IhavnoBio  https://t.co/H5B8gfUnyu   \n",
       "\n",
       "   protected  followers_count  friends_count  ...  \\\n",
       "0      False              119            528  ...   \n",
       "1      False            13925          13466  ...   \n",
       "2      False             1487           1387  ...   \n",
       "3      False              114            292  ...   \n",
       "4      False              537            338  ...   \n",
       "\n",
       "   profile_use_background_image has_extended_profile  default_profile  \\\n",
       "0                          True                False             True   \n",
       "1                          True                 True            False   \n",
       "2                         False                False            False   \n",
       "3                          True                False             True   \n",
       "4                          True                 True            False   \n",
       "\n",
       "  default_profile_image following  follow_request_sent  notifications  \\\n",
       "0                 False      None                 None           None   \n",
       "1                 False      None                 None           None   \n",
       "2                 False      None                 None           None   \n",
       "3                 False      None                 None           None   \n",
       "4                 False      None                 None           None   \n",
       "\n",
       "   translator_type entities.description.urls  \\\n",
       "0             none                        []   \n",
       "1             none                        []   \n",
       "2             none                        []   \n",
       "3             none                        []   \n",
       "4             none                        []   \n",
       "\n",
       "                                   entities.url.urls  \n",
       "0                                                NaN  \n",
       "1                                                NaN  \n",
       "2                                                NaN  \n",
       "3                                                NaN  \n",
       "4  [{'url': 'https://t.co/H5B8gfUnyu', 'expanded_...  \n",
       "\n",
       "[5 rows x 43 columns]"
      ]
     },
     "execution_count": 48,
     "metadata": {},
     "output_type": "execute_result"
    }
   ],
   "source": [
    "# this column contains nested data which will be hard for us to manage later\n",
    "# we can flatten it with the json_normalize function\n",
    "\n",
    "user_table = json_normalize(df.user)\n",
    "\n",
    "user_table.head()"
   ]
  },
  {
   "cell_type": "code",
   "execution_count": null,
   "metadata": {},
   "outputs": [],
   "source": []
  }
 ],
 "metadata": {
  "kernelspec": {
   "display_name": "Python 3",
   "language": "python",
   "name": "python3"
  },
  "language_info": {
   "codemirror_mode": {
    "name": "ipython",
    "version": 3
   },
   "file_extension": ".py",
   "mimetype": "text/x-python",
   "name": "python",
   "nbconvert_exporter": "python",
   "pygments_lexer": "ipython3",
   "version": "3.7.6"
  }
 },
 "nbformat": 4,
 "nbformat_minor": 4
}
