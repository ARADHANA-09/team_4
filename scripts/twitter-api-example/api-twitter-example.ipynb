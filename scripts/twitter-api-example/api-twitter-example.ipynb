{
 "cells": [
  {
   "cell_type": "code",
   "execution_count": 15,
   "metadata": {},
   "outputs": [
    {
     "output_type": "execute_result",
     "data": {
      "text/plain": "200"
     },
     "metadata": {},
     "execution_count": 15
    }
   ],
   "source": [
    "\n",
    "####################\n",
    "#Author: brandon chiazza\n",
    "#version: 1.0\n",
    "#purpose: to call a twitter api and return results\n",
    "#documentation: https://developer.twitter.com/en/docs\n",
    "#####################\n",
    "\n",
    "\n",
    "import pandas as pd\n",
    "import requests\n",
    "import json\n",
    "import base64\n",
    "import s3fs \n",
    "import twitter_keys #this is a custom reference module to a package containing twitter keys\n",
    "\n",
    "key_secret = '{}:{}'.format(twitter_keys.client_key, twitter_keys.client_secret).encode('ascii')\n",
    "b64_encoded_key = base64.b64encode(key_secret)\n",
    "b64_encoded_key = b64_encoded_key.decode('ascii')\n",
    "\n",
    "#identify base url and oauth token path\n",
    "base_url = 'https://api.twitter.com/' #base url for authentication\n",
    "auth_url = '{}oauth2/token'.format(base_url)\n",
    "\n",
    "#share header information -- encoding is ascii\n",
    "auth_headers = {\n",
    "    'Authorization': 'Basic {}'.format(b64_encoded_key),\n",
    "    'Content-Type': 'application/x-www-form-urlencoded;charset=UTF-8'\n",
    "}\n",
    "\n",
    "#pass clientcredentials\n",
    "auth_data = {\n",
    "    'grant_type': 'client_credentials'\n",
    "}\n",
    "\n",
    "#send authentication using requests - POST request\n",
    "auth_resp = requests.post(auth_url, headers=auth_headers, data=auth_data)\n",
    "\n",
    "#check response status. 200 = OK\n",
    "auth_resp.status_code\n",
    "\n",
    "\n"
   ]
  },
  {
   "cell_type": "code",
   "execution_count": 20,
   "metadata": {},
   "outputs": [
    {
     "output_type": "stream",
     "name": "stdout",
     "text": "dict_keys(['token_type', 'access_token'])\n"
    },
    {
     "output_type": "execute_result",
     "data": {
      "text/plain": "200"
     },
     "metadata": {},
     "execution_count": 20
    }
   ],
   "source": [
    "\n",
    "# Keys in data response are token_type (bearer) and access_token (your access token)\n",
    "print(auth_resp.json().keys()\n",
    "\n",
    "access_token = auth_resp.json()['access_token']\n",
    "\n",
    "\n",
    "search_headers = {\n",
    "    'Authorization': 'Bearer {}'.format(access_token)    \n",
    "}\n",
    "\n",
    "#enter search parameters for coronavirus example. This looks for \"covid-19\" in the 1000 most recent tweets\n",
    "query_params = {\n",
    "    'q': 'covid-19',\n",
    "    'result_type': 'recent',\n",
    "    'count': 1000\n",
    "}\n",
    "\n",
    "\n",
    "#identify search url path and save \n",
    "search_url = '{}1.1/search/tweets.json'.format(base_url)\n",
    "\n",
    "\n",
    "#run search using get request\n",
    "search_resp = requests.get(search_url, headers=search_headers, params=query_params)\n",
    "\n",
    "#check status code of GET request\n",
    "search_resp.status_code\n"
   ]
  },
  {
   "cell_type": "code",
   "execution_count": 17,
   "metadata": {},
   "outputs": [
    {
     "output_type": "stream",
     "name": "stdout",
     "text": "RT @sonaliranade: About 100 to 120 million blue-collar workers, accounting for over 70-80% of the industry, have gone without income in the…\n\n川崎病とCOVID-19ってなんか似てる\n\nRT @takeshi_local1: ＜COVID-19に伴う美ヶ原・武石地域および周辺地域の営業内容変更、冬季閉鎖の延長について＞\n※今後の政府の対応により、休館期間が変更になる場合がります。詳細は各公式HPをご確認ください。\n#上田市 #長和町 #美ヶ原 #ビーナスライン…\n\nRT @Minsa_Peru: ACTUALIZACIÓN | Esta es la situación del coronavirus #COVID19 en Perú hasta las 00:00 horas del 27 de abril. #PerúEstáEnNue…\n\nRT @RobinLloyd99: what is meant by a \"safe reopening\" with COVID-19? what is definition of safe here? I don't see this explained/defined in…\n\nAmid the COVID-19 crisis, here's how Midwest VCs are approaching investing. https://t.co/x5YqWCRgaW\n\nRT @helpandsupportf: @BlueDart_ @BlueDartCares Why aren't you starting retail customer medicine courier pickups from our pharmacy of items…\n\nRT @TheScenestar: Sad news for music lovers that didn't get to visit the original location in Hollywood before it closed down due to COVID-…\n\nRT @WSJopinion: Social-media companies are censoring information about the Covid-19 treatment my company is developing after Trump mentione…\n\nRT @VincentCrypt46: A dead covid-19 patient is worth anywhere between $40k to $1M depending what factors you include in the calculation.\n\n8…\n\nRT @investnland: So the governor of New York Mr Cuomo issues an order that all nursing homes and rehabilitation places have to accept peopl…\n\nRT @AsimSBajwa: Receiving One of 3 planes that delivered  COVID-19 related medical equipment Donated by China Three Gorges.Weighing 13 tons…\n\n#2020\n\n- ABD - İran savaşı \n- Covid 19 salgını \n- Çernobil yangını \n- Dünya Ekonomik krizi \n- İstanbul’da uğultulu… https://t.co/FtSFzPYyY7\n\n@BillFOXLA @FOXLA If they're making appointments, limiting numbers of customers at a time, then they should be able… https://t.co/CPjQxsxHU8\n\nRT @svaradarajan: How Indian Muslims Engaged in COVID-19 Relief Efforts Are Countering Hate With Love https://t.co/tKUIdMeYMi via @thewire_…\n\n@RiftDSN Taking care of family because of COVID-19 and the piling student debt\n\nRT @UpdateChartBRA: 🚨#RT Petição para a Manu Gavassi fazer um live ao vivo no Youtube, cantando todas suas musicas e \"Don't Start Now\" da D…\n\nRT @RealCandaceO: It is absurd to ask taxpayers to bail out these bankrupt states— who are now pretending that their various pending bankru…\n\nRT @RWPUSA: What Would Happen to Your Body If You Actually Injected Bleach? https://t.co/12uialsjgq via @RollingStone\n\nAprès s'être demandés quand serait le pic de la COVID-19, maintenant on se demande si on a passé le pic de populari… https://t.co/dJgSrcH45v\n\nRT @JoeBiden: Tomorrow afternoon, I'll be hosting a town hall on how COVID-19 is impacting women — and I'll be joined by a special guest. T…\n\nRT @atensnut: Start with Whitmer. \n\nWilliam Barr orders legal action against governors whose COVID-19 actions infringe on civil rights - Wa…\n\nبشرى لاصحاب المناعة الضعيفة\nبرفيسور الماني : مضادات الالتهابات تحمي من الفيروس .\n\nEntzündungshemmende Medikamente s… https://t.co/L3EnfCAWEy\n\nThere was like a syllabus going around with various articles that discussed COVID-19 and race. Does anyone have a link to that?\n\nRT @CLFoundationInc: Ang TULONG SA PAGBANGON advocacy ng Cebuana Lhuillier Foundation Inc. ay magpapamahagi ng 20,000 COVID-19 testing kits…\n\nRT @Amy_Siskind: Gee, who could have seen this coming 🙄\n\nA leader of the ReOpen NC revealed she tested positive for COVID-19 and was “asymp…\n\nRT @LuluRodl: Mi papá fue diagnosticado con COVID-19 el jueves pasado. \nDos experiencias de atención complemente distintas las que hemos vi…\n\nAspirar el humo del chile seco  tatemado, ya es diagnóstico diferencial del COVID-19 según el CIE-11.\n\nRT @JohnFugelsang: FOX just fired Diamond &amp; Silk for promoting disinformation about Covid-19.\n\nBecause Diamond and Silk are held to a highe…\n\nI just signed a @theactionnet petition: SIGN NOW: End surprise medical bills in the next COVID-19 package!. Sign he… https://t.co/1UmgE5TkPT\n\nRT @navagraha_: 今レジとかに下がってる透明ビニールカーテンだけどさ、あれCOVID-19が一応の収まりを見せたあともずっと続けてしまえばいいよね。実際感染症対策になるし、お互い視線が弱められて、あれ一枚あるだけで客から直接殴られ怒鳴られる危険性も多少減るし、バカ…\n\nRT @WeinbergerDan: Excited to share the first product of our new collaboration with @washingtonpost looking at recent increases in excess m…\n\nRT @kylegriffin1: Schumer: \"[Leader McConnell] should instruct his Committee Chairs to immediately begin vigorous and desperately needed ov…\n\nRT @navagraha_: 今レジとかに下がってる透明ビニールカーテンだけどさ、あれCOVID-19が一応の収まりを見せたあともずっと続けてしまえばいいよね。実際感染症対策になるし、お互い視線が弱められて、あれ一枚あるだけで客から直接殴られ怒鳴られる危険性も多少減るし、バカ…\n\nRT @ANPNL05: La larga historia criminal del Dr. Fauci “Pruebas de coronavirus no prueban presencia de virus mortal en ningún paciente, es q…\n\nRT @WashTimes: AG Barr orders legal action against governors whose COVID-19 actions infringe on civil rights https://t.co/l2SlyiMR6u\n\nRT @StevenTDennis: McConnell puts down another marker: Next COVID-19 bill MUST have liability protections for business owners who reopen am…\n\nWhat cities around the world are doing about physical distancing re #COVID19. Trust me: the link is not boring- it… https://t.co/djwO0X3Dlj\n\nRT @JoseLuis130371: México fue el país que se preparo desde el primer llamado para enfrentar la pandemia.\n#LopezSeraRecordado como el prime…\n\nRT @ANTHONYBLOGAN: YouTube deleted the video of the two doctors in California talking about COVID-19! Not my video, but the original one FR…\n\nRT @hmetromy: #penampang Bukan sahaja melanggar PKP, seorang wanita turut biadap terhadap anggota dan pegawai polis yang bertugas dalam Op…\n\nRT @dailynation: Covid-19 brings out pupil's talent  https://t.co/ODJabHygg2\n\nRT @CLFoundationInc: Good news mga Ka-Cebuana 24K card e-Services members, maaari ka ng makatulong sa ating mga mga kababayan at sa ating l…\n\nEven now, COVID-19 has been expanding all over the world. People are forcing to stay home.  Corresponding to this,… https://t.co/1RytAo7XGn\n\nRT @BhavikaKapoor5: Some earning profits in sale of COVID-19 test kits to govt, PM must intervene: Rahul Gandhi\nhttps://t.co/dJLTwoyrpA\n\n@ryanstruyk @gtconway3d Fake news... we all know New York and other states are categorizing everything they can as… https://t.co/pN3wizwd5t\n\nRT @Ma_R8: こうやって打てるワクチンがないからCOVID-19で世界中がこれだけ大変な事になってるのに。\nhttps://t.co/7mmiYdN2WD\n\nRT @GlobalLeth: COVID-19: Lethbridge city council hears update from economic task force #lethbridge https://t.co/V44MFrwtsB\n\nRT @hnurwahid: Ini yg sudah ber-kali2 disampaikan olh kawan2 @FPKSDPRRI dllnya. Agar anggaran rp 5,6T Rp itu diberikan langsung ke Rakyat t…\n\nRT @Reuters: EXCLUSIVE: More than 2,200 Indonesians have died with acute symptoms of COVID-19 but were not recorded as victims of the disea…\n\nRT @groth1945: 🆘China continues to threaten any &amp;all Western nations that call them(China) to task for UNLEASHING Covid-19 on the world.Chi…\n\nRT @gtconway3d: Why don’t you declassify and release the numerous warnings you received in January and February and about covid-19?\n\nRT @SykesCharlie: The Complete Guide to How Trump Lied, Bungled, and Screwed America into the COVID-19 Crisis - The Bulwark https://t.co/H9…\n\nRT @oantagonizta: URGENTE: Quem faria um exame de covid-19, cujo resultado é positivo, e usaria o codinome “Brilhante Ustra” pra esconder s…\n\nTrump can’t even fake empathy. He will never allow the level of Covid-19 testing and contact tracing that is needed… https://t.co/Fa0kv5o4Ry\n\nRT @dzrhnews: READ: Pahayag ni SND Lorenzana sa nag-leak na sulat ni AFP chief Santos sa China para humingi ng umano'y gamot sa COVID-19 #C…\n\nRT @KiranKS: Looking for jobs?\nLooking to re-skill during COVID19 pandemic?\n\nCheck out Coursera - They are offering 3800 onine courses, fre…\n\nRT @amoebamusic: It is with a very heavy heart that we must announce that the massive impact from COVID-19 has forced Amoeba Hollywood to r…\n\nRT @DiamondandSilk: Sickening!  Who ordered the mandate to place COVID-19 patients in nursing and rehabilitation homes in New York?  Someth…\n\nRT @jimmyfriki: Decepção do dia: eu o dia todo paramentado, me expondo 7 dias/semana e meu instrutor de Muay ontem na casa de um amigo...…\n\nFunerarias de Nueva York intensifican uso ataúdes de cartón para cremaciones. #NoticiasSIN #SIN #SINDigital… https://t.co/uT9m9VR6kk\n\nRT @MarkCCrowley: Quick, Decisive &amp; Innovative #Leadership:\nVacuum cleaner inventor &amp; #CEO James Dyson challenged his employees to build a…\n\nRT @SenWarren: Project Air Bridge is Jared Kushner’s secretive public-private partnership for COVID-19 supplies – but it’s failing. States…\n\nRT @Horadelaverdad: Mañana 28 de abril en @Horadelaverdad con el exministro @FlondonoHoyos, José Antonio Kast (@joseantoniokast), excandida…\n\nRT @kirti_sd: Our rigid notions of gender, deeply embedded patriarchy in our collective consciousness have revealed themselves even as we b…\n\nRT @essayolumhense: Three days after posting this, Amber Isaac, 26, died during delivery.\n\nHer partner said she raised concerns about her c…\n\nRT @angie_rasmussen: \"the testing method they used didn't distinguish between viable and non-viable virus, or tell them anything about its…\n\nRT @Silvano_A: Michoacán registró hoy una jornada atípica de casos de COVID-19, desde que se dio el primer brote del virus el 21 de marzo.…\n\nRT @Chantal_Rome: Absolutely fantastic video of two doctors who run large urgent care facilities in California.  The dispute the stay at ho…\n\nRT @NavajoFilmmaker: Ten nurses were placed on administrative leave from Providence Saint John's Health Center in Santa Monica, California,…\n\nOne-time ATP Tour world no.39 Marinko Matosevic believes tournament prize money must take on a more even spread whe… https://t.co/Wmg9ELCtH5\n\nRT @VTVcanal8: OMS: Países deben mantener número estable de pruebas para medir si contagios de Covid-19 están disminuyendo  \n\n#PatriaProteg…\n\nRT @aciprensa: Policías peruanos rezan de rodillas y se encomiendan a Dios antes de salir a las calles a cumplir su labor en la lucha contr…\n\nRT @nprpolitics: On Monday, restaurants across Tennessee are allowed to welcome dine-in customers for the first time in nearly a month.\n\nTh…\n\nRT @Luis62escoto1: @roblesmaloof @Irma_Sandoval Lo bueno es que no tiene sobre peso y menos obesidad.......\n\nOk,ok tantita....\n\nNomás falta…\n\nRT @navagraha_: 今レジとかに下がってる透明ビニールカーテンだけどさ、あれCOVID-19が一応の収まりを見せたあともずっと続けてしまえばいいよね。実際感染症対策になるし、お互い視線が弱められて、あれ一枚あるだけで客から直接殴られ怒鳴られる危険性も多少減るし、バカ…\n\nRT @sushmitadevinc: The government is failing to give sufficient PPE &amp; testing kits but citizens are coming through. Nikita Kaul is no ordi…\n\nRT @albertsamuel28: Masyarakat di kab Wamena, Papua, sdh lakukan persiapan utk mencegah kemungkinan kelangkaan Beras nanti akibat pandemi g…\n\nRT @oantagonizta: URGENTE: Quem faria um exame de covid-19, cujo resultado é positivo, e usaria o codinome “Brilhante Ustra” pra esconder s…\n\nRT @matheuxcaxtrox: O cara falando ao #ConexaoReporter que não acredita no covid-19, que não tem medo de se contaminar, e que não usará más…\n\nRT @jairbolsonaro: Determinei à @CGUonline, órgão federal  responsável pela fiscalização dos gastos públicos, que atue preventivamente, per…\n\nRT @RicardoHossoe: Conexão Repórter agora - Manaus - COVID-19\n\nRT @prof_preobr: Умер глава Металлоинвеста Варичев.\n53 года.\nЧеловек, имевший неограниченные финансовые возможности для получения качествен…\n\n@GovernorVA I read an article today where you were proud of the ability to test 400 Virginians a day - out of 8.6M… https://t.co/FFC5wosQRv\n\nRT @_evso: cês tem noção que o brasil passou a china no número de mortos por covid-19?\n\nIn the big picture of things the Democratic Governors are going to destroy us before the Covid-19 ever will.  The n… https://t.co/Xn4CZhBKc0\n\nIn this #Coronavirus #COVID-19 critical  condition  private doctors  are serving peoples.. \nFor that we all thankfu… https://t.co/KsbuU6hI2c\n\nRT @kylegriffin1: One of the leaders of the ReOpen NC group says that she tested positive for COVID-19.\nhttps://t.co/qaKJjU3x5Z\n\nRT @brozoxmiswebs: Informa Sheinbaum que del 12 al 26 de abril se han triplicado el número de pacientes intubados en la CDMX. Por su parte…\n\nRT @CuecaPraVc: Galera a máscara ficou pronta.\n@CuecaPraVc\n\n#Covid_19 #FinalBBB20 #coronavirus #proteção #Thelma #mascaradocacete #cuecapra…\n\nRT @jaketapper: Black Women Have Long Faced Racism in Healthcare. COVID-19 Is Only Amplifying It. - The Appeal https://t.co/bJNJLR6MYW\n\nRT @ericgarland: This is how ugly the implications are: China, WHO, and Trump lied about COVID-19 while Trump had FINISHED intelligence in…\n\nRT @SenKamalaHarris: We need to know whether politics has played a role in the Trump administration's COVID-19 response and distribution of…\n\nRT @beltrandelrio: La secretaria de la Función Pública, @Irma_Sandoval, es la primera integrante del gabinete presidencial en dar positivo…\n\nRT @KITV4: Spanish health official Verónica Casado, herself a family doctor, was unable to hold back tears as she read out the names of hea…\n\nRT @NewsroomPostCom: #UttarPradesh : कानपुर के अस्पताल में जमातियों ने फिर मचाया उपद्रव, खाने की थाली में मारी लात, मारपीट का भी आरोप #Tabl…\n\nRT @RuidoEnLaRed: Ojo aquí, @Tu_IMSS: Personal del Hospital La Raza exige abasto de insumos😟🏥\n\nDecenas de trabajadores de la salud bloquear…\n\nRT @DiamondandSilk: Sickening!  Who ordered the mandate to place COVID-19 patients in nursing and rehabilitation homes in New York?  Someth…\n\nRT @FelicindaCluney: Los tiempos cambian y el problema de COVID-19 generó la necesidad de que el Congreso sesione sin riesgos.\nEsto implica…\n\nRT @louis_riel_sd: We just read \"COVID-19 and Workplace Well-Being in K-12 Education: Leaning into Connection, Belonging, and Opportunity i…\n\n"
    }
   ],
   "source": [
    "#print text from result to verify  \n",
    "twitter_data = search_resp.json()\n",
    "for x in twitter_data['statuses']:\n",
    "    print(x['text'] + '\\n')"
   ]
  },
  {
   "cell_type": "code",
   "execution_count": 51,
   "metadata": {},
   "outputs": [
    {
     "output_type": "execute_result",
     "data": {
      "text/plain": "                       created_at                   id               id_str  \\\n0  Tue Apr 28 03:44:01 +0000 2020  1254979655855009793  1254979655855009793   \n\n                                                text  truncated  \\\n0  RT @sonaliranade: About 100 to 120 million blu...      False   \n\n                                            entities  \\\n0  {'hashtags': [], 'symbols': [], 'user_mentions...   \n\n                                            metadata  \\\n0  {'iso_language_code': 'en', 'result_type': 're...   \n\n                                              source  in_reply_to_status_id  \\\n0  <a href=\"http://twitter.com/download/android\" ...                    NaN   \n\n  in_reply_to_status_id_str  ...  \\\n0                      None  ...   \n\n                                    retweeted_status is_quote_status  \\\n0  {'created_at': 'Tue Apr 28 03:37:17 +0000 2020...           False   \n\n  retweet_count favorite_count favorited retweeted possibly_sensitive lang  \\\n0             4              0     False     False              False   en   \n\n  quoted_status_id  quoted_status_id_str  \n0              NaN                   NaN  \n\n[1 rows x 28 columns]",
      "text/html": "<div>\n<style scoped>\n    .dataframe tbody tr th:only-of-type {\n        vertical-align: middle;\n    }\n\n    .dataframe tbody tr th {\n        vertical-align: top;\n    }\n\n    .dataframe thead th {\n        text-align: right;\n    }\n</style>\n<table border=\"1\" class=\"dataframe\">\n  <thead>\n    <tr style=\"text-align: right;\">\n      <th></th>\n      <th>created_at</th>\n      <th>id</th>\n      <th>id_str</th>\n      <th>text</th>\n      <th>truncated</th>\n      <th>entities</th>\n      <th>metadata</th>\n      <th>source</th>\n      <th>in_reply_to_status_id</th>\n      <th>in_reply_to_status_id_str</th>\n      <th>...</th>\n      <th>retweeted_status</th>\n      <th>is_quote_status</th>\n      <th>retweet_count</th>\n      <th>favorite_count</th>\n      <th>favorited</th>\n      <th>retweeted</th>\n      <th>possibly_sensitive</th>\n      <th>lang</th>\n      <th>quoted_status_id</th>\n      <th>quoted_status_id_str</th>\n    </tr>\n  </thead>\n  <tbody>\n    <tr>\n      <th>0</th>\n      <td>Tue Apr 28 03:44:01 +0000 2020</td>\n      <td>1254979655855009793</td>\n      <td>1254979655855009793</td>\n      <td>RT @sonaliranade: About 100 to 120 million blu...</td>\n      <td>False</td>\n      <td>{'hashtags': [], 'symbols': [], 'user_mentions...</td>\n      <td>{'iso_language_code': 'en', 'result_type': 're...</td>\n      <td>&lt;a href=\"http://twitter.com/download/android\" ...</td>\n      <td>NaN</td>\n      <td>None</td>\n      <td>...</td>\n      <td>{'created_at': 'Tue Apr 28 03:37:17 +0000 2020...</td>\n      <td>False</td>\n      <td>4</td>\n      <td>0</td>\n      <td>False</td>\n      <td>False</td>\n      <td>False</td>\n      <td>en</td>\n      <td>NaN</td>\n      <td>NaN</td>\n    </tr>\n  </tbody>\n</table>\n<p>1 rows × 28 columns</p>\n</div>"
     },
     "metadata": {},
     "execution_count": 51
    }
   ],
   "source": [
    "# move data into data frame \n",
    "\n",
    "df = pd.DataFrame(twitter_data['statuses'])\n",
    "\n",
    "# show one record to verify import \n",
    "df.head(1)"
   ]
  },
  {
   "cell_type": "code",
   "execution_count": 70,
   "metadata": {},
   "outputs": [],
   "source": [
    "# we can use pandas to put data directly into an s3 bucket\n",
    "s3 = {path to bucket}\n",
    "df.to_csv(path=s3, sep= = '||', index = False )"
   ]
  },
  {
   "cell_type": "code",
   "execution_count": 61,
   "metadata": {},
   "outputs": [
    {
     "output_type": "display_data",
     "data": {
      "text/plain": "0    {'id': 357267251, 'id_str': '357267251', 'name...\n1    {'id': 1084828411170680833, 'id_str': '1084828...\n2    {'id': 138413510, 'id_str': '138413510', 'name...\n3    {'id': 799377726, 'id_str': '799377726', 'name...\n4    {'id': 2268076370, 'id_str': '2268076370', 'na...\nName: user, dtype: object"
     },
     "metadata": {}
    },
    {
     "output_type": "execute_result",
     "data": {
      "text/plain": "dict"
     },
     "metadata": {},
     "execution_count": 61
    }
   ],
   "source": [
    "# optional flatening nested json with json_normalize\n",
    "from pandas.io.json import json_normalize\n",
    "\n",
    "#lets look at the users column\n",
    "display(df.user[:5])\n",
    "\n",
    "#and lets print its dtype\n",
    "\n",
    "type(df.user[2])\n"
   ]
  },
  {
   "cell_type": "code",
   "execution_count": 68,
   "metadata": {},
   "outputs": [
    {
     "output_type": "execute_result",
     "data": {
      "text/plain": "                    id               id_str                         name  \\\n0            357267251            357267251  RIDE ON ‏‎ - AAP anti Fenku   \n1  1084828411170680833  1084828411170680833             しもベイベ🐝⋆︎*ﾟ∗1y5m♀   \n2            138413510            138413510                           てつ   \n3            799377726            799377726                        Lucía   \n4           2268076370           2268076370                 Richard Hunt   \n\n     screen_name  location                                        description  \\\n0    pavan_sethi            RTs can be interpreted as endorsements,  irony...   \n1  myproudmusume            2018.11生まれ・娘さま専用しもべ妖精のアカウントです🐝⋆︎*ﾟ∗惚気多めで趣味多め。無...   \n2  ezelsapientia    静岡県浜松市  ロイヤルエンフィールドのヒマラヤンと、スーパーカブ110（JA07）に乗るおじさん。キャンプ...   \n3   Lucia_Reyes_      Perú  Comunicación Social || @UNMSM_ || Music and la...   \n4        rfjhunt  new york                                 production artiste   \n\n                       url  protected  followers_count  friends_count  ...  \\\n0                     None      False             2838            753  ...   \n1                     None      False               91           1057  ...   \n2  https://t.co/FIX7e5xFhH      False              455            976  ...   \n3                     None      False              113            127  ...   \n4                     None      False              132            139  ...   \n\n   profile_use_background_image has_extended_profile  default_profile  \\\n0                          True                False             True   \n1                          True                False             True   \n2                          True                 True            False   \n3                          True                False            False   \n4                          True                False             True   \n\n  default_profile_image following  follow_request_sent  notifications  \\\n0                 False      None                 None           None   \n1                 False      None                 None           None   \n2                 False      None                 None           None   \n3                 False      None                 None           None   \n4                 False      None                 None           None   \n\n   translator_type entities.description.urls  \\\n0             none                        []   \n1             none                        []   \n2             none                        []   \n3             none                        []   \n4             none                        []   \n\n                                   entities.url.urls  \n0                                                NaN  \n1                                                NaN  \n2  [{'url': 'https://t.co/FIX7e5xFhH', 'expanded_...  \n3                                                NaN  \n4                                                NaN  \n\n[5 rows x 43 columns]",
      "text/html": "<div>\n<style scoped>\n    .dataframe tbody tr th:only-of-type {\n        vertical-align: middle;\n    }\n\n    .dataframe tbody tr th {\n        vertical-align: top;\n    }\n\n    .dataframe thead th {\n        text-align: right;\n    }\n</style>\n<table border=\"1\" class=\"dataframe\">\n  <thead>\n    <tr style=\"text-align: right;\">\n      <th></th>\n      <th>id</th>\n      <th>id_str</th>\n      <th>name</th>\n      <th>screen_name</th>\n      <th>location</th>\n      <th>description</th>\n      <th>url</th>\n      <th>protected</th>\n      <th>followers_count</th>\n      <th>friends_count</th>\n      <th>...</th>\n      <th>profile_use_background_image</th>\n      <th>has_extended_profile</th>\n      <th>default_profile</th>\n      <th>default_profile_image</th>\n      <th>following</th>\n      <th>follow_request_sent</th>\n      <th>notifications</th>\n      <th>translator_type</th>\n      <th>entities.description.urls</th>\n      <th>entities.url.urls</th>\n    </tr>\n  </thead>\n  <tbody>\n    <tr>\n      <th>0</th>\n      <td>357267251</td>\n      <td>357267251</td>\n      <td>RIDE ON ‏‎ - AAP anti Fenku</td>\n      <td>pavan_sethi</td>\n      <td></td>\n      <td>RTs can be interpreted as endorsements,  irony...</td>\n      <td>None</td>\n      <td>False</td>\n      <td>2838</td>\n      <td>753</td>\n      <td>...</td>\n      <td>True</td>\n      <td>False</td>\n      <td>True</td>\n      <td>False</td>\n      <td>None</td>\n      <td>None</td>\n      <td>None</td>\n      <td>none</td>\n      <td>[]</td>\n      <td>NaN</td>\n    </tr>\n    <tr>\n      <th>1</th>\n      <td>1084828411170680833</td>\n      <td>1084828411170680833</td>\n      <td>しもベイベ🐝⋆︎*ﾟ∗1y5m♀</td>\n      <td>myproudmusume</td>\n      <td></td>\n      <td>2018.11生まれ・娘さま専用しもべ妖精のアカウントです🐝⋆︎*ﾟ∗惚気多めで趣味多め。無...</td>\n      <td>None</td>\n      <td>False</td>\n      <td>91</td>\n      <td>1057</td>\n      <td>...</td>\n      <td>True</td>\n      <td>False</td>\n      <td>True</td>\n      <td>False</td>\n      <td>None</td>\n      <td>None</td>\n      <td>None</td>\n      <td>none</td>\n      <td>[]</td>\n      <td>NaN</td>\n    </tr>\n    <tr>\n      <th>2</th>\n      <td>138413510</td>\n      <td>138413510</td>\n      <td>てつ</td>\n      <td>ezelsapientia</td>\n      <td>静岡県浜松市</td>\n      <td>ロイヤルエンフィールドのヒマラヤンと、スーパーカブ110（JA07）に乗るおじさん。キャンプ...</td>\n      <td>https://t.co/FIX7e5xFhH</td>\n      <td>False</td>\n      <td>455</td>\n      <td>976</td>\n      <td>...</td>\n      <td>True</td>\n      <td>True</td>\n      <td>False</td>\n      <td>False</td>\n      <td>None</td>\n      <td>None</td>\n      <td>None</td>\n      <td>none</td>\n      <td>[]</td>\n      <td>[{'url': 'https://t.co/FIX7e5xFhH', 'expanded_...</td>\n    </tr>\n    <tr>\n      <th>3</th>\n      <td>799377726</td>\n      <td>799377726</td>\n      <td>Lucía</td>\n      <td>Lucia_Reyes_</td>\n      <td>Perú</td>\n      <td>Comunicación Social || @UNMSM_ || Music and la...</td>\n      <td>None</td>\n      <td>False</td>\n      <td>113</td>\n      <td>127</td>\n      <td>...</td>\n      <td>True</td>\n      <td>False</td>\n      <td>False</td>\n      <td>False</td>\n      <td>None</td>\n      <td>None</td>\n      <td>None</td>\n      <td>none</td>\n      <td>[]</td>\n      <td>NaN</td>\n    </tr>\n    <tr>\n      <th>4</th>\n      <td>2268076370</td>\n      <td>2268076370</td>\n      <td>Richard Hunt</td>\n      <td>rfjhunt</td>\n      <td>new york</td>\n      <td>production artiste</td>\n      <td>None</td>\n      <td>False</td>\n      <td>132</td>\n      <td>139</td>\n      <td>...</td>\n      <td>True</td>\n      <td>False</td>\n      <td>True</td>\n      <td>False</td>\n      <td>None</td>\n      <td>None</td>\n      <td>None</td>\n      <td>none</td>\n      <td>[]</td>\n      <td>NaN</td>\n    </tr>\n  </tbody>\n</table>\n<p>5 rows × 43 columns</p>\n</div>"
     },
     "metadata": {},
     "execution_count": 68
    }
   ],
   "source": [
    "# this column contains nested data which will be hard for us to manage later\n",
    "# we can flatten it with the json_normalize function\n",
    "\n",
    "user_table = json_normalize(df.user)\n",
    "\n",
    "user_table.head()"
   ]
  },
  {
   "cell_type": "code",
   "execution_count": null,
   "metadata": {},
   "outputs": [],
   "source": []
  }
 ],
 "metadata": {
  "kernelspec": {
   "display_name": "Python 3",
   "language": "python",
   "name": "python3"
  },
  "language_info": {
   "codemirror_mode": {
    "name": "ipython",
    "version": 3
   },
   "file_extension": ".py",
   "mimetype": "text/x-python",
   "name": "python",
   "nbconvert_exporter": "python",
   "pygments_lexer": "ipython3",
   "version": "3.7.1-final"
  }
 },
 "nbformat": 4,
 "nbformat_minor": 4
}